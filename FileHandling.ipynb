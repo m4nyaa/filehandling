{
  "metadata": {
    "kernelspec": {
      "name": "python",
      "display_name": "Python (Pyodide)",
      "language": "python"
    },
    "language_info": {
      "codemirror_mode": {
        "name": "python",
        "version": 3
      },
      "file_extension": ".py",
      "mimetype": "text/x-python",
      "name": "python",
      "nbconvert_exporter": "python",
      "pygments_lexer": "ipython3",
      "version": "3.8"
    }
  },
  "nbformat_minor": 5,
  "nbformat": 4,
  "cells": [
    {
      "id": "de778300-985a-427c-9312-ad87ffbd18e8",
      "cell_type": "markdown",
      "source": "1. What is the difference between interpreted and compiled languages?\n    -Interpreted languages run line-by-line where as compiled languages are transformed into machine code before execution.\n\n2. What is exception handling in Python?\n    -Exception Handling in Python is a way to handle runtime errors using try, except, etc.\n\n3. What is the purpose of the finally block in exception handling?\n    -Finally Block runs code after try/except, regardless of exceptions.\n\n4. What is logging in Python?\n    -Logging in Python is the process of recording messages or events that happen during a program’s execution for debugging and monitoring.\n\n5. What is the significance of the __del__ method in Python?\n   -The __del__ method is called when an object is about to be destroyed to free resources.\n\n6. What is the difference between import and from ... import in Python?\n   -`import` brings the entire module while `from ... import` brings specific functions or classes directly into the namespace.\n\n7. How can you handle multiple exceptions in Python?\n   -By using multiple `except` blocks for different exception types or a single block with a tuple.\n   This helps in managing different error types more precisely.\n\n8. What is the purpose of the `with` statement when handling files in Python?\n   The `with` statement automatically handles opening and closing files.\n\n9. What is the difference between multithreading and multiprocessing?\n   -Multithreading uses threads within a single process and shares memory space.\n   Multiprocessing runs separate processes, each with its own memory, ideal for CPU-bound tasks.\n\n10. What are the advantages of using logging in a program?\n    -Logging provides consistent and configurable error tracking and output.\n    It helps maintain logs without cluttering the code with print statements.\n\n11. What is memory management in Python?\n    -Memory management in Python involves allocating and freeing memory automatically.\n    It uses techniques like reference counting and garbage collection.\n\n12. What are the basic steps involved in exception handling in Python?\n    - Some basic steps like wrapping risky code in a `try` block and catch errors with `except`.\n    Using `finally` to clean up resources, and `else` for code that runs if no exceptions occur.\n\n13. Why is memory management important in Python?\n    Proper memory management prevents memory leaks and optimizes performance.It ensures that resources are used efficiently throughout the   programs life.\n\n14. What is the role of `try` and `except` in exception handling?\n    - try lets us write code that might raise exceptions and except catches and handles those exceptions to prevent crashes.\n\n15. How does Python's garbage collection system work?\n    -Python uses reference counting to track object usage.It also detects and collects cyclic references using the garbage collector.\n\n16. What is the purpose of the `else` block in exception handling?\n    -The `else` block runs if the `try` block succeeds without exceptions. It separates normal execution from error handling code.\n\n17. What are the common logging levels in Python?\n    -The main logging levels are DEBUG, INFO, WARNING, ERROR, and CRITICAL.\n\n18. What is the difference between `os.fork()` and `multiprocessing` in Python?\n    -os.fork() creates a child process (Unix-only) and gives low-level control.\n    multiprocessing is a cross-platform, higher-level API for parallel execution.\n\n19. What is the importance of closing a file in Python?\n    -Closing a file frees system resources and ensures data is saved.\n    It's essential for avoiding file corruption and system limits.\n\n20. What is the difference between `file.read()` and `file.readline()` in Python?\n    -file.read() reads the entire file content at once.\n     file.readline() reads just one line at a time.\n\n21. What is the logging module in Python used for?\n    -it is used for recording messages and tracking application behavior.it is also useful for debugging, monitoring, and maintaining applications.\n\n22. What is the `os` module in Python used for in file handling?\n    -The os module provides functions to interact with the operating system.\n    It handles tasks like file deletion, path handling, and directory navigation.\n\n23. What are the challenges associated with memory management in Python?\n    -Challenges include managing cyclic references and avoiding memory leaks.\n    It’s also tough to optimize performance in long-running or data-heavy applications.\n\n24. How do you raise an exception manually in Python?\n    -Use the raise keyword followed by an exception class.\n    For example: raise ValueError(\"Invalid input\")\n\n25. Why is it important to use multithreading in certain applications?\n    -Multithreading is useful for I/O-bound tasks like network or file operations.\n    It helps improve responsiveness and resource utilization.\n",
      "metadata": {}
    },
    {
      "id": "aa0ad007-0406-4a15-a512-c3733d7db1ab",
      "cell_type": "code",
      "source": "#1.open a file for writing and write a string to it\nwith open(\"output.txt\", \"w\") as f:\n    f.write(\"Hello, world!\")     #a file is created with Hello, world! written , im unable to add output photo",
      "metadata": {
        "trusted": true
      },
      "outputs": [],
      "execution_count": 25
    },
    {
      "id": "d23beef7-bb88-40b9-88af-9212c0dbfe1a",
      "cell_type": "code",
      "source": "#2. Read the contents of a file and print each line\nwith open(\"input.txt\", \"r\") as f:\n    data= f.readlines()\n    print(data)",
      "metadata": {
        "trusted": true
      },
      "outputs": [
        {
          "name": "stdout",
          "output_type": "stream",
          "text": "['hello, im manya\\n', 'bye!\\n']\n"
        }
      ],
      "execution_count": 31
    },
    {
      "id": "330b7797-f1bc-4ad9-a8a3-df02c2708736",
      "cell_type": "code",
      "source": "#3. Handle case where file doesn't exist using try\ntry:\n    with open(\"nonexistent.txt\", \"r\") as f:\n        print(f.read())\nexcept FileNotFoundError:\n    print(\"File not found.\")",
      "metadata": {
        "trusted": true
      },
      "outputs": [
        {
          "name": "stdout",
          "output_type": "stream",
          "text": "File not found.\n"
        }
      ],
      "execution_count": 32
    },
    {
      "id": "b8de479e-330a-4a25-85aa-8ae354f31d4c",
      "cell_type": "code",
      "source": "#4Read from one file and write to another:\nwith open(\"input.txt\", \"r\") as source, open(\"destination.txt\", \"w\") as dest:\n    dest.write(source.read())",
      "metadata": {
        "trusted": true
      },
      "outputs": [],
      "execution_count": 34
    },
    {
      "id": "59ee91fc-ac44-427e-a631-d368d2120127",
      "cell_type": "code",
      "source": "#5.Catch and handle division by zero error\ntry:\n    result = 10 / 0\nexcept ZeroDivisionError:\n    print(\"Cannot divide by zero.\")",
      "metadata": {
        "trusted": true
      },
      "outputs": [
        {
          "name": "stdout",
          "output_type": "stream",
          "text": "Cannot divide by zero.\n"
        }
      ],
      "execution_count": 35
    },
    {
      "id": "05f171e5-f421-4c19-9ca9-18398d49de4c",
      "cell_type": "code",
      "source": "#6.og error to a file on division by zero:\nimport logging\n\nlogging.basicConfig(filename=\"error.log\", level=logging.ERROR)\ntry:\n    result = 10 / 0\nexcept ZeroDivisionError as e:\n    logging.error(\"Division by zero occurred: %s\", e)",
      "metadata": {
        "trusted": true
      },
      "outputs": [],
      "execution_count": 36
    },
    {
      "id": "2b6ae2da-101d-48b2-919c-17d1113a6e1c",
      "cell_type": "code",
      "source": "#7.Log INFO, ERROR, WARNING levels:\nimport logging\nlogging.basicConfig(level=logging.DEBUG)\nlogging.info(\"This is an info message\")\nlogging.warning(\"This is a warning\")\nlogging.error(\"This is an error\")",
      "metadata": {
        "trusted": true
      },
      "outputs": [],
      "execution_count": 37
    },
    {
      "id": "667f4ccf-2dfc-447f-b890-5c6d8b1d7b9a",
      "cell_type": "code",
      "source": "#8.Handle file opening error with exception: \ntry:\n    with open(\"file.txt\", \"r\") as f:\n        content = f.read()\nexcept IOError:\n    print(\"Error opening file.\")",
      "metadata": {
        "trusted": true
      },
      "outputs": [],
      "execution_count": null
    },
    {
      "id": "a4828297-c696-448b-97b1-878ace5c7c22",
      "cell_type": "code",
      "source": "#9. Read file line by line into a list:\nwith open(\"input.txt\", \"r\") as f:\n    lines = f.readlines()\nprint(lines)",
      "metadata": {
        "trusted": true
      },
      "outputs": [
        {
          "name": "stdout",
          "output_type": "stream",
          "text": "['hello, im manya\\n', 'bye!\\n']\n"
        }
      ],
      "execution_count": 39
    },
    {
      "id": "170d8643-aeb5-400f-bde2-bbe19b81b956",
      "cell_type": "code",
      "source": "#10Append data to an existing file:\nwith open(\"output.txt\", \"a\") as f:\n    f.write(\"\\nNew line added.\")",
      "metadata": {
        "trusted": true
      },
      "outputs": [],
      "execution_count": null
    },
    {
      "id": "8e957a76-c386-4bbf-b839-b4176a2d9a87",
      "cell_type": "code",
      "source": "#11Handle missing dictionary key using try-except:\nmy_dict = {\"name\": \"Alice\"}\ntry:\n    print(my_dict[\"age\"])\nexcept KeyError:\n    print(\"Key not found in dictionary.\")",
      "metadata": {
        "trusted": true
      },
      "outputs": [
        {
          "name": "stdout",
          "output_type": "stream",
          "text": "Key not found in dictionary.\n"
        }
      ],
      "execution_count": 40
    },
    {
      "id": "b3ae1f1e-8331-46e7-a254-0c0bbe0e0540",
      "cell_type": "code",
      "source": "#12 Multiple except blocks for different exceptions:\ntry:\n    num = int(\"abc\")\n    result = 10 / 0\nexcept ValueError:\n    print(\"Invalid value.\")\nexcept ZeroDivisionError:\n    print(\"Division by zero.\")",
      "metadata": {
        "trusted": true
      },
      "outputs": [
        {
          "name": "stdout",
          "output_type": "stream",
          "text": "Invalid value.\n"
        }
      ],
      "execution_count": 41
    },
    {
      "id": "2775e354-2dde-49ad-bf83-8f303e036ec9",
      "cell_type": "code",
      "source": "#13 Check if file exists before reading\nimport os\n\nif os.path.exists(\"file.txt\"):\n    with open(\"file.txt\", \"r\") as f:\n        print(f.read())\nelse:\n    print(\"File does not exist.\")",
      "metadata": {
        "trusted": true
      },
      "outputs": [
        {
          "name": "stdout",
          "output_type": "stream",
          "text": "File does not exist.\n"
        }
      ],
      "execution_count": 42
    },
    {
      "id": "682f6c36-769a-4012-8131-491940be53a9",
      "cell_type": "code",
      "source": "#14Log info and error messages\nimport logging\nlogging.basicConfig(level=logging.INFO)\nlogging.info(\"Program started\")\ntry:\n    1 / 0\nexcept ZeroDivisionError:\n    logging.error(\"Division by zero error occurred\")",
      "metadata": {
        "trusted": true
      },
      "outputs": [],
      "execution_count": 43
    },
    {
      "id": "279df8a6-0c84-4351-bcf2-7a16d8cf12c9",
      "cell_type": "code",
      "source": "#15print content of file and handle empty file\nwith open(\"file.txt\", \"r\") as f:\n    content = f.read()\n    if content:\n        print(content)\n    else:\n        print(\"File is empty.\")",
      "metadata": {
        "trusted": true
      },
      "outputs": [
        {
          "name": "stdout",
          "output_type": "stream",
          "text": "File is empty.\n"
        }
      ],
      "execution_count": 46
    },
    {
      "id": "926a4cce-35a3-4186-aebd-cd353239da9b",
      "cell_type": "code",
      "source": "#16 Use memory profiling (requires memory_profiler):\n\npython\nCopy\nEdit\n# Run this script with: python -m memory_profiler script.py\nfrom memory_profiler import profile\n\n@profile\ndef my_func():\n    a = [i for i in range(100000)]\n    return sum(a)\n\nmy_func()",
      "metadata": {
        "trusted": true
      },
      "outputs": [],
      "execution_count": null
    },
    {
      "id": "dde0eb98-aeb4-4073-ad3d-18153b7f77a8",
      "cell_type": "code",
      "source": "#17Write list of numbers to file (one per line):\nnumbers = [1, 2, 3, 4, 5]\nwith open(\"numbers.txt\", \"w\") as f:\n    for number in numbers:\n        f.write(f\"{number}\\n\")",
      "metadata": {
        "trusted": true
      },
      "outputs": [],
      "execution_count": 52
    },
    {
      "id": "679720db-35df-418d-a13b-631d1aabd691",
      "cell_type": "code",
      "source": "#18Logging with file rotation (after 1MB):\nimport logging\nfrom logging.handlers import RotatingFileHandler\n\nhandler = RotatingFileHandler(\"app.log\", maxBytes=1024*1024, backupCount=3)\nlogging.basicConfig(handlers=[handler], level=logging.INFO)\nlogging.info(\"This is a log message.\")",
      "metadata": {
        "trusted": true
      },
      "outputs": [],
      "execution_count": 48
    },
    {
      "id": "8fdda3df-ea84-4122-a347-809cab69035a",
      "cell_type": "code",
      "source": "#19Handle both IndexError and KeyError:\ntry:\n    lst = [1]\n    print(lst[5])\n    d = {}\n    print(d[\"key\"])\nexcept IndexError:\n    print(\"Index out of range.\")\nexcept KeyError:\n    print(\"Key not found.\")",
      "metadata": {
        "trusted": true
      },
      "outputs": [],
      "execution_count": 49
    },
    {
      "id": "ec3f614e-ad84-43c6-b753-f4ad21094fcd",
      "cell_type": "code",
      "source": "#20 Open and read file using context manager:\nwith open(\"file.txt\", \"r\") as f:\n    print(f.read())",
      "metadata": {
        "trusted": true
      },
      "outputs": [
        {
          "name": "stdout",
          "output_type": "stream",
          "text": "this is my file\ni write into this\nthis is my assignment\n"
        }
      ],
      "execution_count": 53
    },
    {
      "id": "802bc413-9147-4498-8edb-045ac4e379d9",
      "cell_type": "code",
      "source": "#21Count occurrences of a specific word in file:\nword = \"hello\"\nwith open(\"file.txt\", \"r\") as f:\n    content = f.read()\n    print(content.lower().split().count(word.lower()))",
      "metadata": {
        "trusted": true,
        "scrolled": true
      },
      "outputs": [],
      "execution_count": null
    },
    {
      "id": "c04e9174-b98d-4056-9bfc-b1905bfee5b4",
      "cell_type": "code",
      "source": "#22 Check if file is empty before reading:\nimport os\n\nif os.stat(\"file.txt\").st_size == 0:\n    print(\"File is empty.\")\nelse:\n    with open(\"file.txt\", \"r\") as f:\n        print(f.read())",
      "metadata": {
        "trusted": true
      },
      "outputs": [],
      "execution_count": null
    },
    {
      "id": "23677429-e1d7-4a72-8b7e-8245effd9ad5",
      "cell_type": "code",
      "source": "#23 Log error during file handling\nimport logging\n\nlogging.basicConfig(filename=\"file_error.log\", level=logging.ERROR)\n\ntry:\n    with open(\"missing.txt\", \"r\") as f:\n        content = f.read()\nexcept FileNotFoundError as e:\n    logging.error(\"File error: %s\", e)",
      "metadata": {
        "trusted": true
      },
      "outputs": [],
      "execution_count": 55
    },
    {
      "id": "c4a767bc-9455-46ff-af0b-210d6c43065f",
      "cell_type": "code",
      "source": "",
      "metadata": {
        "trusted": true
      },
      "outputs": [],
      "execution_count": null
    }
  ]
}